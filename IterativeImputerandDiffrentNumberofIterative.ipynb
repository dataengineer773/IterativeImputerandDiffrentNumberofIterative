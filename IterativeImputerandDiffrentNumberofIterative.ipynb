{
 "cells": [
  {
   "cell_type": "code",
   "execution_count": 1,
   "id": "5f162ece-f418-4492-9be6-8c001f8de7a1",
   "metadata": {},
   "outputs": [],
   "source": [
    "# compare iterative imputation number of iterations for the  horse coilc dataset\n",
    "from numpy import mean\n",
    "from numpy import std\n",
    "from sklearn.ensemble import RandomForestClassifier\n",
    "from sklearn.pipeline import Pipeline\n",
    "from sklearn.model_selection import RepeatedStratifiedKFold\n",
    "from sklearn.model_selection import cross_val_score\n",
    "from pandas import read_csv\n",
    "from sklearn.experimental import enable_iterative_imputer\n",
    "from sklearn.impute import IterativeImputer\n",
    "from matplotlib import pyplot"
   ]
  },
  {
   "cell_type": "code",
   "execution_count": 2,
   "id": "5cae4833-f69f-49cf-ac8e-f17c8dda5daf",
   "metadata": {},
   "outputs": [],
   "source": [
    "# load dataset\n",
    "dataframe = read_csv('horse-colic.csv', header=0, na_values='?')"
   ]
  },
  {
   "cell_type": "code",
   "execution_count": 3,
   "id": "47aaedd5-aa8b-4a52-b455-34cfe72f36fc",
   "metadata": {},
   "outputs": [],
   "source": [
    "# split into input and output elements\n",
    "data = dataframe.values\n",
    "ix = [i for i in range(data.shape[1]) if i != 23]\n",
    "X, y = data[:, ix], data[:, 23]"
   ]
  },
  {
   "cell_type": "code",
   "execution_count": 4,
   "id": "e7257182-0bf1-4e6d-98ff-00cc07c52566",
   "metadata": {},
   "outputs": [
    {
     "name": "stdout",
     "output_type": "stream",
     "text": [
      ">1 0.867 (0.049)\n",
      ">2 0.871 (0.050)\n",
      ">3 0.863 (0.055)\n",
      ">4 0.872 (0.051)\n",
      ">5 0.873 (0.054)\n",
      ">6 0.872 (0.053)\n",
      ">7 0.870 (0.052)\n",
      ">8 0.873 (0.057)\n",
      ">9 0.874 (0.056)\n",
      ">10 0.874 (0.053)\n",
      ">11 0.870 (0.052)\n",
      ">12 0.871 (0.051)\n",
      ">13 0.871 (0.050)\n",
      ">14 0.867 (0.050)\n",
      ">15 0.869 (0.049)\n",
      ">16 0.876 (0.050)\n",
      ">17 0.870 (0.047)\n",
      ">18 0.871 (0.056)\n",
      ">19 0.874 (0.054)\n",
      ">20 0.869 (0.052)\n"
     ]
    }
   ],
   "source": [
    "# evaluate each strategy on the dataset\n",
    "results = list()\n",
    "strategies = [str(i) for i in range(1, 21)]\n",
    "for s in strategies:\n",
    "    # create the modeling pipeline\n",
    "    pipeline = Pipeline(steps=[('i', IterativeImputer(max_iter=int(s))), ('m', RandomForestClassifier())])\n",
    "    # evaluate the model\n",
    "    cv = RepeatedStratifiedKFold(n_splits=10, n_repeats=3, random_state=1)\n",
    "    scores = cross_val_score(pipeline, X, y, scoring='accuracy', cv=cv, n_jobs=-1)\n",
    "    # store results\n",
    "    results.append(scores)\n",
    "    print('>%s %.3f (%.3f)' % (s, mean(scores), std(scores)))"
   ]
  },
  {
   "cell_type": "code",
   "execution_count": 5,
   "id": "446f4046-2fde-4355-aed7-148c01b4f49a",
   "metadata": {},
   "outputs": [
    {
     "data": {
      "image/png": "[encoded data removed]",
      "text/plain": [
       "<Figure size 432x288 with 1 Axes>"
      ]
     },
     "metadata": {
      "needs_background": "light"
     },
     "output_type": "display_data"
    }
   ],
   "source": [
    "# plot model performnance for comparison\n",
    "pyplot.boxplot(results, labels=strategies, showmeans=True)\n",
    "pyplot.show()"
   ]
  }
 ],
 "metadata": {
  "kernelspec": {
   "display_name": "Python 3 (ipykernel)",
   "language": "python",
   "name": "python3"
  },
  "language_info": {
   "codemirror_mode": {
    "name": "ipython",
    "version": 3
   },
   "file_extension": ".py",
   "mimetype": "text/x-python",
   "name": "python",
   "nbconvert_exporter": "python",
   "pygments_lexer": "ipython3",
   "version": "3.10.12"
  }
 },
 "nbformat": 4,
 "nbformat_minor": 5
}
